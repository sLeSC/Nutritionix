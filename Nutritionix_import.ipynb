{
 "cells": [
  {
   "attachments": {},
   "cell_type": "markdown",
   "metadata": {},
   "source": [
    "# Nuritionix Tracking API with Python Data Frames\n",
    "## Using API requests and Python libraries to extract user data & reports from the nuritionix website\n",
    "\n",
    "### Version 1.0\n",
    "The goal of this project is to use Python to read API & CSV imported data from the Nuritionix app to a Data Frame. Then sort, clean and analyze the data to see if my current nutrition progress is meeting my fitness goals. It will demonstrate projected nutrition goals and will investigate whether changes will be needed to the current diet or maintain the same lifestyle. \n"
   ]
  },
  {
   "cell_type": "code",
   "execution_count": 20,
   "metadata": {},
   "outputs": [
    {
     "name": "stdout",
     "output_type": "stream",
     "text": [
      "               Food Brand  Serving Quantity        Serving Unit  Calories  \\\n",
      "0         cold brew   NaN                 2       cup (8 fl oz)      4.74   \n",
      "1        fried eggs   NaN                 2               large    180.32   \n",
      "2             bagel   NaN                 1        medium bagel    277.20   \n",
      "3  chicken and rice   NaN                 1                 cup    266.16   \n",
      "4      frozen pizza   NaN                 1  package 8 oz pizza    533.32   \n",
      "\n",
      "   Total Fat  Saturated Fat  Cholesterol  Sodium  Total Carbohydrate  \\\n",
      "0       0.10           0.00         0.00    9.48                0.00   \n",
      "1      13.66           3.98       368.92  190.44                0.76   \n",
      "2       1.39           0.38         0.00  443.10               55.00   \n",
      "3       8.73           2.38        97.20  275.72               10.79   \n",
      "4      24.44           8.50        27.86  889.53               57.75   \n",
      "\n",
      "   Dietary Fiber  Sugars  Protein  Potassium       P          Consumed At  \\\n",
      "0           0.00    0.00     0.56     232.26   14.22  2023-10-15 13:00:00   \n",
      "1           0.00    0.36    12.52     139.84  197.80  2023-10-15 13:00:00   \n",
      "2           1.68    8.85    11.09     112.35  103.95  2023-10-15 13:00:00   \n",
      "3           0.54    0.51    33.53     354.38  269.01  2023-10-15 16:00:00   \n",
      "4           4.38    7.11    20.61     302.48  356.21  2023-10-15 21:00:00   \n",
      "\n",
      "            Created At  \n",
      "0  2023-10-30 23:49:38  \n",
      "1  2023-10-30 23:49:38  \n",
      "2  2023-10-30 23:49:38  \n",
      "3  2023-10-30 23:49:48  \n",
      "4  2023-10-30 23:49:56  \n"
     ]
    }
   ],
   "source": [
    "# Using csv import from extracted data to create DF\n",
    "\n",
    "import pandas as pd\n",
    "import numpy as np\n",
    "import os, csv\n",
    "\n",
    "df1 = pd.read_csv(\"foods.csv\")\n",
    "\n",
    "print(df1.head())"
   ]
  },
  {
   "cell_type": "code",
   "execution_count": null,
   "metadata": {},
   "outputs": [
    {
     "name": "stdout",
     "output_type": "stream",
     "text": [
      "{'date_1': {'date': '2024-02-24', 'total_cal': 1877.08, 'total_proteins': 96.61, 'total_carbs': 198.93, 'total_fat': 77.56, 'total_sodium': 3329.33, 'water_consumed_liter': None, 'avg_weight_kg': None, 'daily_kcal_limit': 2000, 'daily_carbs_pct': None, 'daily_fat_pct': None, 'daily_protein_pct': None, 'foods_logged': 7, 'exercises_logged': None, 'weights_logged': None, 'notes': None}, 'date_2': {'date': '2024-02-23', 'total_cal': 2289.65, 'total_proteins': 110.13, 'total_carbs': 247.53, 'total_fat': 95.04, 'total_sodium': 2890.23, 'water_consumed_liter': None, 'avg_weight_kg': None, 'daily_kcal_limit': 2000, 'daily_carbs_pct': None, 'daily_fat_pct': None, 'daily_protein_pct': None, 'foods_logged': 7, 'exercises_logged': None, 'weights_logged': None, 'notes': None}, 'date_3': {'date': '2024-02-22', 'total_cal': 1690.74, 'total_proteins': 122, 'total_carbs': 132.93, 'total_fat': 72.03, 'total_sodium': 2850.35, 'water_consumed_liter': None, 'avg_weight_kg': None, 'daily_kcal_limit': 2000, 'daily_carbs_pct': None, 'daily_fat_pct': None, 'daily_protein_pct': None, 'foods_logged': 7, 'exercises_logged': None, 'weights_logged': None, 'notes': None}, 'date_4': {'date': '2024-02-21', 'total_cal': 2047.92, 'total_proteins': 130.5, 'total_carbs': 149.55, 'total_fat': 100.5, 'total_sodium': 3611.07, 'water_consumed_liter': None, 'avg_weight_kg': None, 'daily_kcal_limit': 2000, 'daily_carbs_pct': None, 'daily_fat_pct': None, 'daily_protein_pct': None, 'foods_logged': 7, 'exercises_logged': None, 'weights_logged': None, 'notes': None}, 'date_5': {'date': '2024-02-20', 'total_cal': 1313.07, 'total_proteins': 89.58, 'total_carbs': 156.9, 'total_fat': 34.92, 'total_sodium': 1834.21, 'water_consumed_liter': None, 'avg_weight_kg': None, 'daily_kcal_limit': 2000, 'daily_carbs_pct': None, 'daily_fat_pct': None, 'daily_protein_pct': None, 'foods_logged': 9, 'exercises_logged': None, 'weights_logged': None, 'notes': None}, 'date_6': {'date': '2024-02-19', 'total_cal': 1852.91, 'total_proteins': 120.61, 'total_carbs': 188.78, 'total_fat': 68.56, 'total_sodium': 3016.63, 'water_consumed_liter': None, 'avg_weight_kg': None, 'daily_kcal_limit': 2000, 'daily_carbs_pct': None, 'daily_fat_pct': None, 'daily_protein_pct': None, 'foods_logged': 10, 'exercises_logged': None, 'weights_logged': None, 'notes': None}, 'date_7': {'date': '2024-02-18', 'total_cal': 2471.85, 'total_proteins': 117.16, 'total_carbs': 300.44, 'total_fat': 89.05, 'total_sodium': 4109.85, 'water_consumed_liter': None, 'avg_weight_kg': None, 'daily_kcal_limit': 2000, 'daily_carbs_pct': None, 'daily_fat_pct': None, 'daily_protein_pct': None, 'foods_logged': 10, 'exercises_logged': None, 'weights_logged': None, 'notes': None}, 'date_8': {'date': '2024-02-17', 'total_cal': 1743.24, 'total_proteins': 82.4, 'total_carbs': 168.58, 'total_fat': 81.02, 'total_sodium': 1707.5, 'water_consumed_liter': None, 'avg_weight_kg': None, 'daily_kcal_limit': 2000, 'daily_carbs_pct': None, 'daily_fat_pct': None, 'daily_protein_pct': None, 'foods_logged': 7, 'exercises_logged': None, 'weights_logged': None, 'notes': None}, 'date_9': {'date': '2024-02-16', 'total_cal': 780.22, 'total_proteins': 93.7, 'total_carbs': 60.7, 'total_fat': 16.88, 'total_sodium': 1163.36, 'water_consumed_liter': None, 'avg_weight_kg': None, 'daily_kcal_limit': 2000, 'daily_carbs_pct': None, 'daily_fat_pct': None, 'daily_protein_pct': None, 'foods_logged': 7, 'exercises_logged': None, 'weights_logged': None, 'notes': None}, 'date_10': {'date': '2024-02-15', 'total_cal': 1102.65, 'total_proteins': 93.31, 'total_carbs': 95.54, 'total_fat': 35.82, 'total_sodium': 1474.04, 'water_consumed_liter': None, 'avg_weight_kg': None, 'daily_kcal_limit': 2000, 'daily_carbs_pct': None, 'daily_fat_pct': None, 'daily_protein_pct': None, 'foods_logged': 7, 'exercises_logged': None, 'weights_logged': None, 'notes': None}, 'date_11': {'date': '2024-02-14', 'total_cal': 1655.37, 'total_proteins': 108.63, 'total_carbs': 198.22, 'total_fat': 44.99, 'total_sodium': 2165.66, 'water_consumed_liter': None, 'avg_weight_kg': None, 'daily_kcal_limit': 2000, 'daily_carbs_pct': None, 'daily_fat_pct': None, 'daily_protein_pct': None, 'foods_logged': 8, 'exercises_logged': None, 'weights_logged': None, 'notes': None}, 'date_12': {'date': '2024-02-13', 'total_cal': 1986.1, 'total_proteins': 118.9, 'total_carbs': 96.24, 'total_fat': 122.34, 'total_sodium': 3117.85, 'water_consumed_liter': None, 'avg_weight_kg': None, 'daily_kcal_limit': 2000, 'daily_carbs_pct': None, 'daily_fat_pct': None, 'daily_protein_pct': None, 'foods_logged': 6, 'exercises_logged': None, 'weights_logged': None, 'notes': None}, 'date_13': {'date': '2024-02-12', 'total_cal': 1526.11, 'total_proteins': 112.73, 'total_carbs': 173.65, 'total_fat': 39.89, 'total_sodium': 1399.6, 'water_consumed_liter': None, 'avg_weight_kg': None, 'daily_kcal_limit': 2000, 'daily_carbs_pct': None, 'daily_fat_pct': None, 'daily_protein_pct': None, 'foods_logged': 9, 'exercises_logged': None, 'weights_logged': None, 'notes': None}}\n"
     ]
    }
   ],
   "source": [
    "# Using the endpoint to access user account report totals\n",
    "\n",
    "# Used to make HTTP Requests\n",
    "import requests\n",
    "# Used to access JSON libraries\n",
    "import json\n",
    "# Accessing Pandas library\n",
    "import os, pandas as pd\n",
    "# Import graphing tools\n",
    "import matplotlib.pyplot as plt\n",
    "# Import pickle library for saving the API data\n",
    "import pickle\n",
    "\n",
    "# API URL from Nutritionix\n",
    "api_url1 = \"URL\"\n",
    "\n",
    "# JSON Header information to connect to the API\n",
    "with open('header.json', 'r') as file:\n",
    "    headers = json.load(file)\n",
    "    \n",
    "# Check if the data is already saved locally using pickle\n",
    "if os.path.exists('api_data.pickle'):\n",
    "    with open('api_data.pickle', 'rb') as f:\n",
    "        new_dict = pickle.load(f)\n",
    "else:\n",
    "    # Using the requests library to get the data from the user, using the above header information\n",
    "    response = requests.get(api_url1, headers)\n",
    "\n",
    "    # Gets the response and turns the JSON object into a dictionary\n",
    "    data = response.json()\n",
    "\n",
    "    # Access the 'dates' list and sort it based on the 'date' Key\n",
    "    sorted_dates = sorted(data['dates'], key=lambda x: x['date'], reverse=True)\n",
    "\n",
    "    # Create a new dictionary with 18 keys\n",
    "    new_dict = {}\n",
    "\n",
    "    # Iterate through the sorted dates and add information to the new dictionary\n",
    "    for i, date_entry in enumerate(sorted_dates[:18]):\n",
    "        key = f'date_{i + 1}'\n",
    "        new_dict[key] = {\n",
    "            'date': date_entry['date'],\n",
    "            'total_cal': date_entry['total_cal'],\n",
    "            'total_proteins': date_entry['total_proteins'],\n",
    "            'total_carbs': date_entry['total_carbs'],\n",
    "            'total_fat': date_entry['total_fat'],\n",
    "            'total_sodium': date_entry['total_sodium'],\n",
    "            'water_consumed_liter': date_entry['water_consumed_liter'],\n",
    "            'avg_weight_kg': date_entry['avg_weight_kg'],\n",
    "            'daily_kcal_limit': date_entry['daily_kcal_limit'],\n",
    "            'daily_carbs_pct': date_entry['daily_carbs_pct'],\n",
    "            'daily_fat_pct': date_entry['daily_fat_pct'],\n",
    "            'daily_protein_pct': date_entry['daily_protein_pct'],\n",
    "            'foods_logged': date_entry['foods_logged'],\n",
    "            'exercises_logged': date_entry['exercises_logged'],\n",
    "            'weights_logged': date_entry['weights_logged'],\n",
    "            'notes': date_entry['notes'],\n",
    "        }\n",
    "\n",
    "    # Save the API data locally using pickle\n",
    "    with open('api_data.pickle', 'wb') as f:\n",
    "        pickle.dump(new_dict, f)\n",
    "\n",
    "    # Close the response after saving the data\n",
    "    response.close()\n",
    "    \n",
    "# Print the new dictionary\n",
    "print(new_dict)"
   ]
  },
  {
   "attachments": {},
   "cell_type": "markdown",
   "metadata": {},
   "source": [
    "### Pandas Data Frame"
   ]
  },
  {
   "cell_type": "code",
   "execution_count": 4,
   "metadata": {},
   "outputs": [
    {
     "name": "stdout",
     "output_type": "stream",
     "text": [
      "                          date_1      date_2      date_3      date_4  \\\n",
      "date                  2024-02-24  2024-02-23  2024-02-22  2024-02-21   \n",
      "total_cal                1877.08     2289.65     1690.74     2047.92   \n",
      "total_proteins             96.61      110.13         122       130.5   \n",
      "total_carbs               198.93      247.53      132.93      149.55   \n",
      "total_fat                  77.56       95.04       72.03       100.5   \n",
      "total_sodium             3329.33     2890.23     2850.35     3611.07   \n",
      "water_consumed_liter        None        None        None        None   \n",
      "avg_weight_kg               None        None        None        None   \n",
      "daily_kcal_limit            2000        2000        2000        2000   \n",
      "daily_carbs_pct             None        None        None        None   \n",
      "daily_fat_pct               None        None        None        None   \n",
      "daily_protein_pct           None        None        None        None   \n",
      "foods_logged                   7           7           7           7   \n",
      "exercises_logged            None        None        None        None   \n",
      "weights_logged              None        None        None        None   \n",
      "notes                       None        None        None        None   \n",
      "\n",
      "                          date_5      date_6      date_7      date_8  \\\n",
      "date                  2024-02-20  2024-02-19  2024-02-18  2024-02-17   \n",
      "total_cal                1313.07     1852.91     2471.85     1743.24   \n",
      "total_proteins             89.58      120.61      117.16        82.4   \n",
      "total_carbs                156.9      188.78      300.44      168.58   \n",
      "total_fat                  34.92       68.56       89.05       81.02   \n",
      "total_sodium             1834.21     3016.63     4109.85      1707.5   \n",
      "water_consumed_liter        None        None        None        None   \n",
      "avg_weight_kg               None        None        None        None   \n",
      "daily_kcal_limit            2000        2000        2000        2000   \n",
      "daily_carbs_pct             None        None        None        None   \n",
      "daily_fat_pct               None        None        None        None   \n",
      "daily_protein_pct           None        None        None        None   \n",
      "foods_logged                   9          10          10           7   \n",
      "exercises_logged            None        None        None        None   \n",
      "weights_logged              None        None        None        None   \n",
      "notes                       None        None        None        None   \n",
      "\n",
      "                          date_9     date_10     date_11     date_12  \\\n",
      "date                  2024-02-16  2024-02-15  2024-02-14  2024-02-13   \n",
      "total_cal                 780.22     1102.65     1655.37      1986.1   \n",
      "total_proteins              93.7       93.31      108.63       118.9   \n",
      "total_carbs                 60.7       95.54      198.22       96.24   \n",
      "total_fat                  16.88       35.82       44.99      122.34   \n",
      "total_sodium             1163.36     1474.04     2165.66     3117.85   \n",
      "water_consumed_liter        None        None        None        None   \n",
      "avg_weight_kg               None        None        None        None   \n",
      "daily_kcal_limit            2000        2000        2000        2000   \n",
      "daily_carbs_pct             None        None        None        None   \n",
      "daily_fat_pct               None        None        None        None   \n",
      "daily_protein_pct           None        None        None        None   \n",
      "foods_logged                   7           7           8           6   \n",
      "exercises_logged            None        None        None        None   \n",
      "weights_logged              None        None        None        None   \n",
      "notes                       None        None        None        None   \n",
      "\n",
      "                         date_13  \n",
      "date                  2024-02-12  \n",
      "total_cal                1526.11  \n",
      "total_proteins            112.73  \n",
      "total_carbs               173.65  \n",
      "total_fat                  39.89  \n",
      "total_sodium              1399.6  \n",
      "water_consumed_liter        None  \n",
      "avg_weight_kg               None  \n",
      "daily_kcal_limit            2000  \n",
      "daily_carbs_pct             None  \n",
      "daily_fat_pct               None  \n",
      "daily_protein_pct           None  \n",
      "foods_logged                   9  \n",
      "exercises_logged            None  \n",
      "weights_logged              None  \n",
      "notes                       None  \n"
     ]
    }
   ],
   "source": [
    "# Turn the dictionary into a Data Frame\n",
    "df = pd.DataFrame(new_dict)\n",
    "\n",
    "print(df)"
   ]
  },
  {
   "attachments": {},
   "cell_type": "markdown",
   "metadata": {},
   "source": [
    "### Calculations & Graphing\n",
    "\n",
    "- Parse the given data into a pandas DataFrame.\n",
    "- Extract the row containing total calories.\n",
    "- Sum up the total calories across all dates.\n",
    "- Plot the total calories on a graph using a suitable visualization library like matplotlib or seaborn."
   ]
  },
  {
   "cell_type": "code",
   "execution_count": 16,
   "metadata": {},
   "outputs": [
    {
     "data": {
      "image/png": "[encoded data removed]",
      "text/plain": [
       "<Figure size 800x600 with 1 Axes>"
      ]
     },
     "metadata": {},
     "output_type": "display_data"
    }
   ],
   "source": [
    "# Extract the \"total_cal\" row and drop the \"date\" index\n",
    "total_cal_row = df.loc[\"total_cal\"]\n",
    "\n",
    "# Convert the values to float and sum up the total calories\n",
    "total_cal = total_cal_row.astype(float).sum()\n",
    "\n",
    "# Plotting\n",
    "plt.figure(figsize=(8, 6))\n",
    "plt.bar(total_cal_row.index, total_cal_row.values.astype(float))\n",
    "plt.xlabel('Date')\n",
    "plt.ylabel('Total Calories')\n",
    "plt.title('Total Calories for Each Date')\n",
    "plt.xticks(rotation=45)\n",
    "plt.tight_layout()\n",
    "plt.show()"
   ]
  }
 ],
 "metadata": {
  "kernelspec": {
   "display_name": "base",
   "language": "python",
   "name": "python3"
  },
  "language_info": {
   "codemirror_mode": {
    "name": "ipython",
    "version": 3
   },
   "file_extension": ".py",
   "mimetype": "text/x-python",
   "name": "python",
   "nbconvert_exporter": "python",
   "pygments_lexer": "ipython3",
   "version": "3.9.13"
  },
  "orig_nbformat": 4
 },
 "nbformat": 4,
 "nbformat_minor": 2
}
